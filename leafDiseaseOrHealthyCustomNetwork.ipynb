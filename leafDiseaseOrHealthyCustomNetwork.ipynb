{
  "nbformat": 4,
  "nbformat_minor": 0,
  "metadata": {
    "colab": {
      "name": "leafDiseaseOrHealthyCustomNetwork.ipynb",
      "provenance": [],
      "collapsed_sections": [],
      "toc_visible": true
    },
    "kernelspec": {
      "name": "python3",
      "display_name": "Python 3"
    }
  },
  "cells": [
    {
      "cell_type": "code",
      "metadata": {
        "id": "MqZ3R0EdM2Xn"
      },
      "source": [
        "!unzip /content/drive/MyDrive/Colab_Notebooks/Ptyxiaki/LeavesBigDataset.zip"
      ],
      "execution_count": null,
      "outputs": []
    },
    {
      "cell_type": "code",
      "metadata": {
        "id": "rn-uR0kpQmDW"
      },
      "source": [
        "import tensorflow as tf\n",
        "from tensorflow import keras\n",
        "from tensorflow.keras import layers\n",
        "from tensorflow.keras import Sequential\n",
        "from tensorflow.keras.layers import Flatten, Activation\n",
        "from tensorflow.keras.utils import to_categorical\n",
        "from keras.callbacks import ModelCheckpoint\n",
        "import tensorflow.keras.backend as K\n",
        "import matplotlib.pyplot as plt\n",
        "import os\n",
        "import cv2\n",
        "import numpy as np\n",
        "import pickle\n",
        "import random\n",
        "import pandas as pd \n",
        "from __future__ import absolute_import\n",
        "from __future__ import division\n",
        "from __future__ import print_function\n",
        "from datetime import datetime\n",
        "from packaging import version"
      ],
      "execution_count": null,
      "outputs": []
    },
    {
      "cell_type": "code",
      "metadata": {
        "id": "GvV_p9EdVZp1"
      },
      "source": [
        "!pip list | grep tensorflow"
      ],
      "execution_count": null,
      "outputs": []
    },
    {
      "cell_type": "code",
      "metadata": {
        "id": "5jSLUwZRRQtM"
      },
      "source": [
        "dirtrain='/content/LeavesBigDataset/train'\n",
        "dirtest='/content/LeavesBigDataset/test'\n",
        "\n",
        "\n",
        "#variable that has the name of the diseases in oerder of the class\n",
        "categories=[\"Healthy\",\"Diseased\"]"
      ],
      "execution_count": null,
      "outputs": []
    },
    {
      "cell_type": "code",
      "metadata": {
        "id": "Q3s2YpxRRIOn"
      },
      "source": [
        "for c in categories:\n",
        "    path=os.path.join(dirtrain,c)\n",
        "    for i in os.listdir(path):\n",
        "        img_array=cv2.imread(os.path.join(path,i))\n",
        "        #print(img_array.shape)\n",
        "        plt.imshow(img_array)\n",
        "        plt.show()\n",
        "        break\n",
        "    break"
      ],
      "execution_count": null,
      "outputs": []
    },
    {
      "cell_type": "code",
      "metadata": {
        "id": "-6flx4D-hN8x"
      },
      "source": [
        "training_data = []\n",
        "def create_training_data():\n",
        "    d=0\n",
        "    count=[]\n",
        "    for c in categories:\n",
        "        path=os.path.join(dirtrain,c)#creating the path of each class (folder)\n",
        "        class_num=categories.index(c)#label is equal to the position of the class in 'categories' variable\n",
        "        c=0\n",
        "        for i in os.listdir(path):\n",
        "            c=c+1\n",
        "            try:\n",
        "                img_array=cv2.imread(os.path.join(path,i))#creating the path of each image\n",
        "                training_data.append([img_array,class_num])\n",
        "            except Exception as e:\n",
        "                pass\n",
        "        count.append(c)\n",
        "    return count\n",
        "\n",
        "count_train=create_training_data() #function called to extract images from the training folder"
      ],
      "execution_count": null,
      "outputs": []
    },
    {
      "cell_type": "code",
      "metadata": {
        "id": "ChpZEKBRJSA5"
      },
      "source": [
        "\r\n",
        "testing_data = []\r\n",
        "def create_testing_data():\r\n",
        "    count=[]\r\n",
        "    for c in categories:\r\n",
        "        path=os.path.join(dirtest,c)\r\n",
        "        class_num=categories.index(c)\r\n",
        "        c=0\r\n",
        "        for i in os.listdir(path):\r\n",
        "            c=c+1\r\n",
        "            try:\r\n",
        "                img_array=cv2.imread(os.path.join(path,i))\r\n",
        "                testing_data.append([img_array,class_num])\r\n",
        "            except Exception as e:\r\n",
        "                pass\r\n",
        "        count.append(c)\r\n",
        "    return count\r\n",
        "\r\n",
        "count_test=create_testing_data() #function called to extract images from the testing folder\r\n"
      ],
      "execution_count": null,
      "outputs": []
    },
    {
      "cell_type": "code",
      "metadata": {
        "id": "IF3cl8_aJaEV"
      },
      "source": [
        "print(len(training_data))\r\n",
        "print(count_train)\r\n",
        "print(len(testing_data))\r\n",
        "print(count_test)"
      ],
      "execution_count": null,
      "outputs": []
    },
    {
      "cell_type": "code",
      "metadata": {
        "id": "ccOW2LY7Jb6Z"
      },
      "source": [
        "random.shuffle(training_data)\r\n",
        "random.shuffle(testing_data)"
      ],
      "execution_count": null,
      "outputs": []
    },
    {
      "cell_type": "code",
      "metadata": {
        "id": "jswgnxeMJeER"
      },
      "source": [
        "x_train = []\r\n",
        "y_train = []\r\n",
        "x_test = []\r\n",
        "y_test = []\r\n"
      ],
      "execution_count": null,
      "outputs": []
    },
    {
      "cell_type": "code",
      "metadata": {
        "id": "Ofd3n2qIJf-K"
      },
      "source": [
        "\r\n",
        "#separating the images and label for the model\r\n",
        "for features, label in training_data:\r\n",
        "    x_train.append(features)\r\n",
        "    y_train.append(label)\r\n",
        "x_train=np.array(x_train).reshape(-1,256,256,3)\r\n",
        "#reshaping -1 means that the it can be any value i.e. the original value which is the no. of images\r\n",
        "#256x256 for the dimension of the image and 3 for the the layers Red Green and Blue (RGB)\r\n"
      ],
      "execution_count": null,
      "outputs": []
    },
    {
      "cell_type": "code",
      "metadata": {
        "id": "oBNXZzHKJh-S"
      },
      "source": [
        "#displaying an image\r\n",
        "x=cv2.resize(training_data[0][0],(256,256))\r\n",
        "plt.imshow(x,cmap='gray')\r\n",
        "\r\n"
      ],
      "execution_count": null,
      "outputs": []
    },
    {
      "cell_type": "code",
      "metadata": {
        "id": "9mJiMfvAJj6i"
      },
      "source": [
        "\r\n",
        "for features, label in testing_data:\r\n",
        "    x_test.append(features)\r\n",
        "    y_test.append(label)\r\n",
        "x_test=np.array(x_test).reshape(-1,256,256,3)"
      ],
      "execution_count": null,
      "outputs": []
    },
    {
      "cell_type": "code",
      "metadata": {
        "id": "t60FR2tyJvT9"
      },
      "source": [
        "#creating the neural network model\r\n",
        "    \r\n",
        "K.clear_session()\r\n",
        "#define the convnet\r\n",
        "model = Sequential()\r\n",
        "# CONV => RELU =>  POOL => DROPOUT\r\n",
        "model.add(Conv2D(32, (3, 3), padding='same',input_shape=(32, 32, 3)))\r\n",
        "model.add(Activation('relu'))\r\n",
        "model.add(MaxPooling2D(pool_size=(2, 2)))\r\n",
        "model.add(Dropout(0.25))\r\n",
        "\r\n",
        "# CONV => RELU => POOL => DROPOUT\r\n",
        "model.add(Conv2D(64, (3, 3),kernel_regularizer=l2(0.001), padding='same'))\r\n",
        "model.add(Activation('relu'))\r\n",
        "model.add(MaxPooling2D(pool_size=(2, 2)))\r\n",
        "model.add(Dropout(0.25))\r\n",
        "\r\n",
        "# CONV => RELU => POOL => DROPOUT\r\n",
        "model.add(Conv2D(128, (3, 3),kernel_regularizer=l2(0.001), padding='same'))\r\n",
        "model.add(Activation('relu'))\r\n",
        "model.add(MaxPooling2D(pool_size=(2, 2)))\r\n",
        "model.add(Dropout(0.25))\r\n",
        "\r\n",
        "# FLATTEN => DENSE => RELU => DROPOUT\r\n",
        "model.add(Flatten())\r\n",
        "model.add(Dense(512))\r\n",
        "model.add(Activation('relu'))\r\n",
        "model.add(Dropout(0.5))\r\n",
        "# a softmax classifier\r\n",
        "model.add(Dense(num_classes))\r\n",
        "model.add(Activation('softmax'))\r\n",
        "\r\n",
        "model.compile(loss='categorical_crossentropy',optimizer='rmsprop',metrics=['accuracy'])\r\n"
      ],
      "execution_count": null,
      "outputs": []
    },
    {
      "cell_type": "code",
      "metadata": {
        "id": "fxwEMfl5JwRS"
      },
      "source": [
        "#compiling the network using the following loss and optimizer\r\n",
        "model.summary()"
      ],
      "execution_count": null,
      "outputs": []
    },
    {
      "cell_type": "code",
      "metadata": {
        "id": "Uj9HfHU2Jx1D"
      },
      "source": [
        "#converting the training label to categorical\r\n",
        "y_train_cat=to_categorical(y_train,2) #2 in the no. of categories"
      ],
      "execution_count": null,
      "outputs": []
    },
    {
      "cell_type": "code",
      "metadata": {
        "id": "Z9uFib4JJ5Ua"
      },
      "source": [
        "y_test_cat=to_categorical(y_test,2)"
      ],
      "execution_count": null,
      "outputs": []
    },
    {
      "cell_type": "code",
      "metadata": {
        "id": "cyqBG5UmJ82a"
      },
      "source": [
        "checkpoint = ModelCheckpoint(\"bestmodel.hdf5\", monitor='loss', verbose=1,\r\n",
        "    save_best_only=True, mode='auto', save_freq=1)\r\n",
        "\r\n",
        "#fit the model i.e. training the model and batch size can be varies\r\n",
        "model.fit(x_train,y_train_cat,batch_size=32,\r\n",
        "          epochs=10,verbose=1,validation_split=0.15,shuffle=True, callbacks=[checkpoint])\r\n",
        "#validating the model with 15% data after every epoch which is also shuffled after each epoch\r\n"
      ],
      "execution_count": null,
      "outputs": []
    },
    {
      "cell_type": "code",
      "metadata": {
        "id": "UlbpIWtqJ9rU"
      },
      "source": [
        "\r\n",
        "#saving the trained model so that no need to fit again for next time\r\n",
        "model.save(\"leaf_disease_coloured.h5\")\r\n"
      ],
      "execution_count": null,
      "outputs": []
    },
    {
      "cell_type": "code",
      "metadata": {
        "id": "_HMLUUVYKALb"
      },
      "source": [
        "\r\n",
        "#example of loading the saved model\r\n",
        "new_model=tf.keras.models.load_model(\"/content/drive/MyDrive/Colab_Notebooks/Ptyxiaki/bestmodel.hdf5\")\r\n"
      ],
      "execution_count": null,
      "outputs": []
    },
    {
      "cell_type": "code",
      "metadata": {
        "id": "gyrzHgmrKDkE"
      },
      "source": [
        "\r\n",
        "#evaluating the saved model\r\n",
        "loss, acc = new_model.evaluate(x_test,y_test_cat, verbose=2)\r\n",
        "print('Restored model, accuracy: {:5.2f}%'.format(100*acc))\r\n",
        "\r\n"
      ],
      "execution_count": null,
      "outputs": []
    },
    {
      "cell_type": "code",
      "metadata": {
        "id": "vgXQZYPGKGoZ"
      },
      "source": [
        "#predicting a image using the model\r\n",
        "\r\n",
        "#'d' is the path of the image\r\n",
        "\r\n",
        "#d='/content/LeavesBigDataset/train/Healthy/14d46dfe-5348-428c-af6b-82b6625ce6c3___GH_HL Leaf 483.1.JPG'\r\n",
        "#d='/content/healthy.jpg'\r\n",
        "d='/content/sick_1.PNG'\r\n",
        "img=cv2.imread(d)\r\n",
        "plt.imshow(img, cmap='gray')\r\n"
      ],
      "execution_count": null,
      "outputs": []
    },
    {
      "cell_type": "code",
      "metadata": {
        "id": "mOzLw4fJeNxL"
      },
      "source": [
        "import cv2\r\n",
        "from google.colab.patches import cv2_imshow\r\n",
        "\r\n",
        "img = cv2.imread('/content/download.jpg')\r\n",
        " \r\n",
        "print('Original Dimensions : ',img.shape)\r\n",
        " \r\n",
        "width = 256\r\n",
        "height = 256\r\n",
        "dim = (width, height)\r\n",
        "# resize image\r\n",
        "resized = cv2.resize(img, dim, interpolation = cv2.INTER_AREA)\r\n",
        " \r\n",
        "print('Resized Dimensions : ',resized.shape)\r\n",
        "cv2_imshow(resized)\r\n",
        "my_image = resized"
      ],
      "execution_count": null,
      "outputs": []
    },
    {
      "cell_type": "code",
      "metadata": {
        "id": "uilevx82KK90"
      },
      "source": [
        "#reshaping the image to make it compatible for the argument of predict function\r\n",
        "my_image=my_image.reshape(-1,256,256,3)\r\n",
        "print('Resized Dimensions : ',my_image.shape)\r\n"
      ],
      "execution_count": null,
      "outputs": []
    },
    {
      "cell_type": "code",
      "metadata": {
        "id": "D8GkfUhxKMOI",
        "colab": {
          "base_uri": "https://localhost:8080/"
        },
        "outputId": "f1062447-3598-476a-8d60-6af941c63b4f"
      },
      "source": [
        "#predicting the class of the image\r\n",
        "predict_class=new_model.predict_classes(my_image)"
      ],
      "execution_count": null,
      "outputs": [
        {
          "output_type": "stream",
          "text": [
            "/usr/local/lib/python3.6/dist-packages/tensorflow/python/keras/engine/sequential.py:450: UserWarning: `model.predict_classes()` is deprecated and will be removed after 2021-01-01. Please use instead:* `np.argmax(model.predict(x), axis=-1)`,   if your model does multi-class classification   (e.g. if it uses a `softmax` last-layer activation).* `(model.predict(x) > 0.5).astype(\"int32\")`,   if your model does binary classification   (e.g. if it uses a `sigmoid` last-layer activation).\n",
            "  warnings.warn('`model.predict_classes()` is deprecated and '\n"
          ],
          "name": "stderr"
        }
      ]
    },
    {
      "cell_type": "code",
      "metadata": {
        "id": "dxTV5OiFKOUT"
      },
      "source": [
        "categories[predict_class[0]]"
      ],
      "execution_count": null,
      "outputs": []
    },
    {
      "cell_type": "code",
      "metadata": {
        "id": "EupR20O1R0UI"
      },
      "source": [
        "pred = new_model.predict(my_image)\n",
        "\n",
        "res = pd.DataFrame()\n",
        "res['Healthy'] = pred[:, 0]\n",
        "res['DiseaseD'] = pred[:, 1]\n",
        "print(res)"
      ],
      "execution_count": null,
      "outputs": []
    }
  ]
}